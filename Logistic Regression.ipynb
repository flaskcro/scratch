{
 "cells": [
  {
   "cell_type": "code",
   "execution_count": 15,
   "metadata": {},
   "outputs": [],
   "source": [
    "import tensorflow as tf\n",
    "import numpy as np"
   ]
  },
  {
   "cell_type": "code",
   "execution_count": 16,
   "metadata": {},
   "outputs": [],
   "source": [
    "data = [\n",
    "    [2,0], [4,0], [6,0], [8,1], [10,1], [12,1], [14,1]\n",
    "]"
   ]
  },
  {
   "cell_type": "code",
   "execution_count": 17,
   "metadata": {},
   "outputs": [],
   "source": [
    "x_data = [x_row[0] for x_row in data]\n",
    "y_data = [y_row[1] for y_row in data]"
   ]
  },
  {
   "cell_type": "code",
   "execution_count": 27,
   "metadata": {},
   "outputs": [],
   "source": [
    "a = tf.Variable(tf.random_uniform([1], dtype=tf.float64, seed=0))\n",
    "b = tf.Variable(tf.random_uniform([1], dtype=tf.float64, seed=0))"
   ]
  },
  {
   "cell_type": "code",
   "execution_count": 28,
   "metadata": {},
   "outputs": [],
   "source": [
    "y = 1 / (1 + np.e**(-a * x_data + b))"
   ]
  },
  {
   "cell_type": "code",
   "execution_count": 29,
   "metadata": {},
   "outputs": [],
   "source": [
    "loss = -tf.reduce_mean(np.array(y_data) * tf.log(y) + (1-np.array(y_data)) * tf.log(1-y))"
   ]
  },
  {
   "cell_type": "code",
   "execution_count": 30,
   "metadata": {},
   "outputs": [],
   "source": [
    "learn_rate = 0.1\n",
    "gradient_descent = tf.train.GradientDescentOptimizer(learning_rate=learn_rate).minimize(loss)"
   ]
  },
  {
   "cell_type": "code",
   "execution_count": 31,
   "metadata": {},
   "outputs": [
    {
     "name": "stdout",
     "output_type": "stream",
     "text": [
      "epoch: 1000, loss = 0.1306, slope =0.8528, intercept =5.6740\n",
      "epoch: 2000, loss = 0.0941, slope =1.1122, intercept =7.5487\n",
      "epoch: 3000, loss = 0.0766, slope =1.2953, intercept =8.8557\n",
      "epoch: 4000, loss = 0.0656, slope =1.4418, intercept =9.8957\n",
      "epoch: 5000, loss = 0.0577, slope =1.5659, intercept =10.7739\n",
      "epoch: 6000, loss = 0.0517, slope =1.6745, intercept =11.5408\n",
      "epoch: 7000, loss = 0.0469, slope =1.7715, intercept =12.2250\n",
      "epoch: 8000, loss = 0.0430, slope =1.8595, intercept =12.8447\n",
      "epoch: 9000, loss = 0.0397, slope =1.9401, intercept =13.4122\n",
      "epoch: 10000, loss = 0.0369, slope =2.0146, intercept =13.9363\n",
      "epoch: 11000, loss = 0.0345, slope =2.0839, intercept =14.4237\n",
      "epoch: 12000, loss = 0.0323, slope =2.1488, intercept =14.8795\n",
      "epoch: 13000, loss = 0.0305, slope =2.2098, intercept =15.3078\n",
      "epoch: 14000, loss = 0.0288, slope =2.2673, intercept =15.7117\n",
      "epoch: 15000, loss = 0.0273, slope =2.3217, intercept =16.0941\n",
      "epoch: 16000, loss = 0.0260, slope =2.3734, intercept =16.4571\n",
      "epoch: 17000, loss = 0.0247, slope =2.4227, intercept =16.8028\n",
      "epoch: 18000, loss = 0.0236, slope =2.4697, intercept =17.1326\n",
      "epoch: 19000, loss = 0.0226, slope =2.5147, intercept =17.4481\n",
      "epoch: 20000, loss = 0.0217, slope =2.5577, intercept =17.7503\n",
      "epoch: 21000, loss = 0.0208, slope =2.5991, intercept =18.0405\n",
      "epoch: 22000, loss = 0.0200, slope =2.6389, intercept =18.3195\n",
      "epoch: 23000, loss = 0.0193, slope =2.6772, intercept =18.5882\n",
      "epoch: 24000, loss = 0.0186, slope =2.7141, intercept =18.8473\n",
      "epoch: 25000, loss = 0.0180, slope =2.7498, intercept =19.0974\n",
      "epoch: 26000, loss = 0.0174, slope =2.7843, intercept =19.3392\n",
      "epoch: 27000, loss = 0.0168, slope =2.8177, intercept =19.5732\n",
      "epoch: 28000, loss = 0.0163, slope =2.8500, intercept =19.7999\n",
      "epoch: 29000, loss = 0.0158, slope =2.8814, intercept =20.0197\n",
      "epoch: 30000, loss = 0.0153, slope =2.9118, intercept =20.2330\n",
      "epoch: 31000, loss = 0.0149, slope =2.9414, intercept =20.4402\n",
      "epoch: 32000, loss = 0.0145, slope =2.9701, intercept =20.6417\n",
      "epoch: 33000, loss = 0.0141, slope =2.9981, intercept =20.8377\n",
      "epoch: 34000, loss = 0.0137, slope =3.0253, intercept =21.0286\n",
      "epoch: 35000, loss = 0.0134, slope =3.0518, intercept =21.2145\n",
      "epoch: 36000, loss = 0.0130, slope =3.0777, intercept =21.3958\n",
      "epoch: 37000, loss = 0.0127, slope =3.1029, intercept =21.5726\n",
      "epoch: 38000, loss = 0.0124, slope =3.1276, intercept =21.7453\n",
      "epoch: 39000, loss = 0.0121, slope =3.1516, intercept =21.9139\n",
      "epoch: 40000, loss = 0.0118, slope =3.1751, intercept =22.0786\n",
      "epoch: 41000, loss = 0.0116, slope =3.1981, intercept =22.2397\n",
      "epoch: 42000, loss = 0.0113, slope =3.2206, intercept =22.3972\n",
      "epoch: 43000, loss = 0.0111, slope =3.2426, intercept =22.5514\n",
      "epoch: 44000, loss = 0.0108, slope =3.2642, intercept =22.7024\n",
      "epoch: 45000, loss = 0.0106, slope =3.2853, intercept =22.8502\n",
      "epoch: 46000, loss = 0.0104, slope =3.3059, intercept =22.9951\n",
      "epoch: 47000, loss = 0.0102, slope =3.3262, intercept =23.1371\n",
      "epoch: 48000, loss = 0.0100, slope =3.3461, intercept =23.2764\n",
      "epoch: 49000, loss = 0.0098, slope =3.3656, intercept =23.4131\n",
      "epoch: 50000, loss = 0.0096, slope =3.3847, intercept =23.5471\n",
      "epoch: 51000, loss = 0.0095, slope =3.4035, intercept =23.6788\n",
      "epoch: 52000, loss = 0.0093, slope =3.4220, intercept =23.8080\n",
      "epoch: 53000, loss = 0.0091, slope =3.4401, intercept =23.9350\n",
      "epoch: 54000, loss = 0.0090, slope =3.4579, intercept =24.0598\n",
      "epoch: 55000, loss = 0.0088, slope =3.4754, intercept =24.1824\n",
      "epoch: 56000, loss = 0.0087, slope =3.4926, intercept =24.3030\n",
      "epoch: 57000, loss = 0.0085, slope =3.5096, intercept =24.4216\n",
      "epoch: 58000, loss = 0.0084, slope =3.5262, intercept =24.5383\n",
      "epoch: 59000, loss = 0.0082, slope =3.5426, intercept =24.6531\n",
      "epoch: 60000, loss = 0.0081, slope =3.5587, intercept =24.7661\n",
      "epoch: 61000, loss = 0.0080, slope =3.5746, intercept =24.8773\n",
      "epoch: 62000, loss = 0.0079, slope =3.5903, intercept =24.9868\n",
      "epoch: 63000, loss = 0.0077, slope =3.6057, intercept =25.0947\n",
      "epoch: 64000, loss = 0.0076, slope =3.6208, intercept =25.2010\n",
      "epoch: 65000, loss = 0.0075, slope =3.6358, intercept =25.3057\n",
      "epoch: 66000, loss = 0.0074, slope =3.6505, intercept =25.4089\n",
      "epoch: 67000, loss = 0.0073, slope =3.6651, intercept =25.5107\n",
      "epoch: 68000, loss = 0.0072, slope =3.6794, intercept =25.6110\n",
      "epoch: 69000, loss = 0.0071, slope =3.6935, intercept =25.7099\n",
      "epoch: 70000, loss = 0.0070, slope =3.7074, intercept =25.8075\n",
      "epoch: 71000, loss = 0.0069, slope =3.7212, intercept =25.9038\n",
      "epoch: 72000, loss = 0.0068, slope =3.7348, intercept =25.9988\n",
      "epoch: 73000, loss = 0.0067, slope =3.7481, intercept =26.0925\n",
      "epoch: 74000, loss = 0.0066, slope =3.7613, intercept =26.1851\n",
      "epoch: 75000, loss = 0.0066, slope =3.7744, intercept =26.2764\n",
      "epoch: 76000, loss = 0.0065, slope =3.7873, intercept =26.3666\n",
      "epoch: 77000, loss = 0.0064, slope =3.8000, intercept =26.4557\n",
      "epoch: 78000, loss = 0.0063, slope =3.8125, intercept =26.5436\n",
      "epoch: 79000, loss = 0.0062, slope =3.8250, intercept =26.6305\n",
      "epoch: 80000, loss = 0.0062, slope =3.8372, intercept =26.7164\n",
      "epoch: 81000, loss = 0.0061, slope =3.8493, intercept =26.8012\n",
      "epoch: 82000, loss = 0.0060, slope =3.8613, intercept =26.8851\n",
      "epoch: 83000, loss = 0.0059, slope =3.8731, intercept =26.9679\n",
      "epoch: 84000, loss = 0.0059, slope =3.8848, intercept =27.0498\n",
      "epoch: 85000, loss = 0.0058, slope =3.8964, intercept =27.1308\n",
      "epoch: 86000, loss = 0.0057, slope =3.9078, intercept =27.2109\n",
      "epoch: 87000, loss = 0.0057, slope =3.9191, intercept =27.2901\n",
      "epoch: 88000, loss = 0.0056, slope =3.9303, intercept =27.3684\n",
      "epoch: 89000, loss = 0.0056, slope =3.9414, intercept =27.4459\n",
      "epoch: 90000, loss = 0.0055, slope =3.9523, intercept =27.5225\n",
      "epoch: 91000, loss = 0.0054, slope =3.9631, intercept =27.5983\n",
      "epoch: 92000, loss = 0.0054, slope =3.9739, intercept =27.6733\n",
      "epoch: 93000, loss = 0.0053, slope =3.9845, intercept =27.7475\n",
      "epoch: 94000, loss = 0.0053, slope =3.9949, intercept =27.8210\n",
      "epoch: 95000, loss = 0.0052, slope =4.0053, intercept =27.8937\n",
      "epoch: 96000, loss = 0.0052, slope =4.0156, intercept =27.9657\n",
      "epoch: 97000, loss = 0.0051, slope =4.0258, intercept =28.0369\n",
      "epoch: 98000, loss = 0.0051, slope =4.0359, intercept =28.1075\n",
      "epoch: 99000, loss = 0.0050, slope =4.0458, intercept =28.1774\n"
     ]
    }
   ],
   "source": [
    "with tf.Session() as sess:\n",
    "    sess.run(tf.global_variables_initializer())\n",
    "    for i in range(1,100000):\n",
    "        sess.run(gradient_descent)\n",
    "        if i % 1000 == 0:\n",
    "            print('epoch: %.f, loss = %.4f, slope =%.4f, intercept =%.4f' \n",
    "                  %(i, sess.run(loss), sess.run(a), sess.run(b)))"
   ]
  },
  {
   "cell_type": "code",
   "execution_count": null,
   "metadata": {},
   "outputs": [],
   "source": []
  }
 ],
 "metadata": {
  "kernelspec": {
   "display_name": "Python 3",
   "language": "python",
   "name": "python3"
  },
  "language_info": {
   "codemirror_mode": {
    "name": "ipython",
    "version": 3
   },
   "file_extension": ".py",
   "mimetype": "text/x-python",
   "name": "python",
   "nbconvert_exporter": "python",
   "pygments_lexer": "ipython3",
   "version": "3.6.8"
  }
 },
 "nbformat": 4,
 "nbformat_minor": 2
}
