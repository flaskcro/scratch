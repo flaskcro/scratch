{
 "cells": [
  {
   "cell_type": "markdown",
   "metadata": {},
   "source": [
    "# Regression"
   ]
  },
  {
   "cell_type": "markdown",
   "metadata": {},
   "source": [
    "## 최소제곱법"
   ]
  },
  {
   "cell_type": "code",
   "execution_count": 1,
   "metadata": {},
   "outputs": [],
   "source": [
    "x = [2,4,6,8]\n",
    "y = [81,93,91,97]"
   ]
  },
  {
   "cell_type": "code",
   "execution_count": 5,
   "metadata": {},
   "outputs": [],
   "source": [
    "x_bar = sum(x) / len(x)\n",
    "y_bar = sum(y) / len(y)"
   ]
  },
  {
   "cell_type": "code",
   "execution_count": 17,
   "metadata": {},
   "outputs": [],
   "source": [
    "def mean(x):\n",
    "    return sum(x) / len(x)"
   ]
  },
  {
   "cell_type": "code",
   "execution_count": 18,
   "metadata": {},
   "outputs": [],
   "source": [
    "def deviate(x):\n",
    "    x_bar = mean(x)\n",
    "    return sum([ ((xi - x_bar) **2)**(1/2) for xi in x])"
   ]
  },
  {
   "cell_type": "code",
   "execution_count": 19,
   "metadata": {},
   "outputs": [],
   "source": [
    "slope = deviate(x) * deviate(y) / deviate(x)**2"
   ]
  },
  {
   "cell_type": "code",
   "execution_count": 20,
   "metadata": {},
   "outputs": [],
   "source": [
    "intercept = mean(y) - (slope * mean(x))"
   ]
  },
  {
   "cell_type": "code",
   "execution_count": 21,
   "metadata": {},
   "outputs": [
    {
     "name": "stdout",
     "output_type": "stream",
     "text": [
      "2.375 78.625\n"
     ]
    }
   ],
   "source": [
    "print(slope, intercept)"
   ]
  },
  {
   "cell_type": "code",
   "execution_count": 28,
   "metadata": {},
   "outputs": [
    {
     "data": {
      "text/plain": [
       "[<matplotlib.lines.Line2D at 0x7fd3986ce438>]"
      ]
     },
     "execution_count": 28,
     "metadata": {},
     "output_type": "execute_result"
    },
    {
     "data": {
      "image/png": "[encoded data removed]",
      "text/plain": [
       "<Figure size 432x288 with 1 Axes>"
      ]
     },
     "metadata": {
      "needs_background": "light"
     },
     "output_type": "display_data"
    }
   ],
   "source": [
    "import matplotlib.pyplot as plt\n",
    "plt.scatter(x,y)\n",
    "plt.plot(x, [slope * x_i + intercept for x_i in x], color='red')"
   ]
  },
  {
   "cell_type": "markdown",
   "metadata": {},
   "source": [
    "## Gradient Descent"
   ]
  },
  {
   "cell_type": "code",
   "execution_count": 29,
   "metadata": {},
   "outputs": [],
   "source": [
    "learn_Rate = 0.1"
   ]
  },
  {
   "cell_type": "code",
   "execution_count": 31,
   "metadata": {},
   "outputs": [],
   "source": [
    "import tensorflow as tf"
   ]
  },
  {
   "cell_type": "code",
   "execution_count": 32,
   "metadata": {},
   "outputs": [
    {
     "name": "stdout",
     "output_type": "stream",
     "text": [
      "WARNING:tensorflow:From /Users/limdaekyoung/anaconda3/envs/sklearn/lib/python3.6/site-packages/tensorflow/python/framework/op_def_library.py:263: colocate_with (from tensorflow.python.framework.ops) is deprecated and will be removed in a future version.\n",
      "Instructions for updating:\n",
      "Colocations handled automatically by placer.\n"
     ]
    }
   ],
   "source": [
    "a = tf.Variable(tf.random_uniform([1],0,10, dtype=tf.float64, seed=42))\n",
    "b = tf.Variable(tf.random_uniform([1],0,100, dtype=tf.float64, seed=42))"
   ]
  },
  {
   "cell_type": "code",
   "execution_count": 35,
   "metadata": {},
   "outputs": [],
   "source": [
    "y_pred = a * x + b"
   ]
  },
  {
   "cell_type": "code",
   "execution_count": 36,
   "metadata": {},
   "outputs": [],
   "source": [
    "rmse = tf.sqrt(tf.reduce_mean(tf.square(y - y_pred)))"
   ]
  },
  {
   "cell_type": "code",
   "execution_count": 37,
   "metadata": {},
   "outputs": [],
   "source": [
    "gradient_descent = tf.train.GradientDescentOptimizer(learning_rate=learn_Rate).minimize(rmse)"
   ]
  },
  {
   "cell_type": "code",
   "execution_count": 39,
   "metadata": {},
   "outputs": [
    {
     "name": "stdout",
     "output_type": "stream",
     "text": [
      "epoch: 100, RMSE = 6.3085, slope =4.6035, intercept =65.2539\n",
      "epoch: 200, RMSE = 5.1066, slope =4.0305, intercept =68.6729\n",
      "epoch: 300, RMSE = 4.1292, slope =3.5141, intercept =71.7549\n",
      "epoch: 400, RMSE = 3.4623, slope =3.0882, intercept =74.2964\n",
      "epoch: 500, RMSE = 3.1082, slope =2.7788, intercept =76.1426\n",
      "epoch: 600, RMSE = 2.9604, slope =2.5796, intercept =77.3313\n",
      "epoch: 700, RMSE = 2.9074, slope =2.4605, intercept =78.0421\n",
      "epoch: 800, RMSE = 2.8896, slope =2.3916, intercept =78.4535\n",
      "epoch: 900, RMSE = 2.8838, slope =2.3521, intercept =78.6889\n",
      "epoch: 1000, RMSE = 2.8819, slope =2.3297, intercept =78.8230\n",
      "epoch: 1100, RMSE = 2.8813, slope =2.3169, intercept =78.8993\n",
      "epoch: 1200, RMSE = 2.8811, slope =2.3096, intercept =78.9427\n",
      "epoch: 1300, RMSE = 2.8810, slope =2.3055, intercept =78.9674\n",
      "epoch: 1400, RMSE = 2.8810, slope =2.3031, intercept =78.9815\n",
      "epoch: 1500, RMSE = 2.8810, slope =2.3018, intercept =78.9895\n",
      "epoch: 1600, RMSE = 2.8810, slope =2.3010, intercept =78.9940\n",
      "epoch: 1700, RMSE = 2.8810, slope =2.3006, intercept =78.9966\n",
      "epoch: 1800, RMSE = 2.8810, slope =2.3003, intercept =78.9981\n",
      "epoch: 1900, RMSE = 2.8810, slope =2.3002, intercept =78.9989\n",
      "epoch: 2000, RMSE = 2.8810, slope =2.3001, intercept =78.9994\n"
     ]
    }
   ],
   "source": [
    "with tf.Session() as sess:\n",
    "    sess.run(tf.global_variables_initializer())\n",
    "    for step in range(1,2001):\n",
    "        sess.run(gradient_descent)\n",
    "        if step % 100 == 0:\n",
    "            print('epoch: %.f, RMSE = %.4f, slope =%.4f, intercept =%.4f' \n",
    "                  %(step, sess.run(rmse), sess.run(a), sess.run(b)))"
   ]
  },
  {
   "cell_type": "code",
   "execution_count": null,
   "metadata": {},
   "outputs": [],
   "source": []
  }
 ],
 "metadata": {
  "kernelspec": {
   "display_name": "Python 3",
   "language": "python",
   "name": "python3"
  },
  "language_info": {
   "codemirror_mode": {
    "name": "ipython",
    "version": 3
   },
   "file_extension": ".py",
   "mimetype": "text/x-python",
   "name": "python",
   "nbconvert_exporter": "python",
   "pygments_lexer": "ipython3",
   "version": "3.6.8"
  }
 },
 "nbformat": 4,
 "nbformat_minor": 2
}
