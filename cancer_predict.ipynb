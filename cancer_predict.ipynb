{
 "cells": [
  {
   "cell_type": "code",
   "execution_count": 1,
   "metadata": {},
   "outputs": [
    {
     "name": "stderr",
     "output_type": "stream",
     "text": [
      "Using TensorFlow backend.\n"
     ]
    }
   ],
   "source": [
    "from keras.models import Sequential\n",
    "from keras.layers import Dense"
   ]
  },
  {
   "cell_type": "code",
   "execution_count": 2,
   "metadata": {},
   "outputs": [],
   "source": [
    "import numpy as np\n",
    "import tensorflow as tf"
   ]
  },
  {
   "cell_type": "code",
   "execution_count": 3,
   "metadata": {},
   "outputs": [],
   "source": [
    "seed = 42\n",
    "np.random.seed(seed)\n",
    "tf.set_random_seed(seed)"
   ]
  },
  {
   "cell_type": "code",
   "execution_count": 6,
   "metadata": {},
   "outputs": [],
   "source": [
    "data = np.loadtxt('./data/ThoraricSurgery.csv', delimiter=',')"
   ]
  },
  {
   "cell_type": "code",
   "execution_count": 9,
   "metadata": {},
   "outputs": [],
   "source": [
    "X = data[:,:17]\n",
    "y = data[:,17]"
   ]
  },
  {
   "cell_type": "code",
   "execution_count": 11,
   "metadata": {},
   "outputs": [
    {
     "name": "stdout",
     "output_type": "stream",
     "text": [
      "[0. 0. 1. 1. 0. 0. 0. 1. 0. 0. 0. 0. 0. 0. 1. 0. 0. 0. 0. 0. 0. 0. 0. 0.\n",
      " 0. 0. 1. 0. 0. 1. 1. 0. 0. 0. 0. 0. 1. 0. 0. 1. 0. 0. 0. 1. 0. 1. 0. 0.\n",
      " 1. 0. 0. 0. 0. 0. 0. 0. 1. 0. 1. 0. 0. 0. 0. 0. 0. 0. 0. 0. 0. 0. 0. 0.\n",
      " 1. 0. 1. 0. 0. 0. 0. 0. 0. 0. 0. 0. 0. 0. 1. 0. 0. 0. 0. 0. 0. 0. 1. 0.\n",
      " 1. 0. 0. 0. 0. 0. 0. 0. 0. 0. 0. 0. 1. 0. 1. 0. 0. 0. 0. 0. 0. 0. 0. 0.\n",
      " 0. 0. 0. 1. 0. 0. 0. 0. 1. 0. 0. 0. 0. 0. 0. 0. 0. 0. 0. 0. 0. 0. 0. 0.\n",
      " 0. 0. 0. 1. 0. 0. 0. 0. 1. 0. 0. 0. 0. 0. 0. 0. 0. 0. 0. 1. 1. 0. 0. 0.\n",
      " 0. 0. 0. 0. 0. 0. 0. 0. 0. 0. 1. 0. 1. 0. 1. 0. 0. 0. 0. 0. 0. 0. 0. 0.\n",
      " 0. 0. 0. 1. 0. 0. 1. 1. 0. 0. 0. 0. 0. 0. 0. 0. 0. 0. 1. 0. 1. 0. 0. 0.\n",
      " 0. 0. 0. 0. 0. 1. 0. 1. 0. 0. 0. 0. 0. 0. 0. 1. 0. 0. 0. 0. 0. 0. 0. 0.\n",
      " 1. 0. 0. 0. 0. 0. 0. 0. 0. 1. 0. 0. 0. 0. 0. 0. 1. 0. 1. 0. 0. 0. 0. 0.\n",
      " 0. 0. 0. 0. 0. 0. 0. 0. 0. 0. 0. 0. 0. 1. 1. 0. 0. 0. 0. 1. 0. 0. 1. 0.\n",
      " 0. 0. 0. 1. 0. 0. 0. 0. 0. 0. 1. 0. 0. 0. 0. 0. 0. 0. 0. 0. 0. 1. 0. 0.\n",
      " 0. 0. 1. 0. 0. 0. 0. 0. 0. 1. 0. 0. 0. 1. 0. 0. 0. 0. 0. 0. 0. 0. 0. 0.\n",
      " 0. 0. 0. 0. 0. 0. 0. 0. 0. 1. 0. 0. 0. 0. 0. 0. 0. 0. 0. 0. 0. 0. 0. 0.\n",
      " 0. 0. 0. 0. 0. 0. 0. 0. 1. 0. 0. 0. 0. 0. 0. 0. 0. 0. 0. 0. 0. 0. 0. 0.\n",
      " 0. 0. 1. 0. 0. 0. 0. 0. 0. 0. 0. 0. 0. 0. 0. 0. 0. 0. 0. 0. 0. 0. 1. 0.\n",
      " 0. 1. 0. 1. 0. 0. 0. 1. 1. 0. 0. 0. 0. 0. 0. 0. 0. 0. 0. 0. 0. 0. 0. 0.\n",
      " 0. 0. 0. 0. 0. 0. 0. 0. 0. 0. 0. 1. 0. 0. 0. 0. 1. 0. 0. 1. 1. 0. 0. 1.\n",
      " 1. 0. 1. 0. 0. 1. 1. 0. 0. 0. 0. 0. 1. 0.]\n"
     ]
    }
   ],
   "source": [
    "print(y)"
   ]
  },
  {
   "cell_type": "code",
   "execution_count": 10,
   "metadata": {},
   "outputs": [
    {
     "name": "stdout",
     "output_type": "stream",
     "text": [
      "WARNING:tensorflow:From /Users/limdaekyoung/anaconda3/envs/sklearn/lib/python3.6/site-packages/tensorflow/python/framework/op_def_library.py:263: colocate_with (from tensorflow.python.framework.ops) is deprecated and will be removed in a future version.\n",
      "Instructions for updating:\n",
      "Colocations handled automatically by placer.\n"
     ]
    }
   ],
   "source": [
    "model = Sequential()\n",
    "model.add(Dense(30, input_dim=17, activation='relu'))\n",
    "model.add(Dense(1, activation='sigmoid'))"
   ]
  },
  {
   "cell_type": "code",
   "execution_count": 12,
   "metadata": {},
   "outputs": [
    {
     "name": "stdout",
     "output_type": "stream",
     "text": [
      "WARNING:tensorflow:From /Users/limdaekyoung/anaconda3/envs/sklearn/lib/python3.6/site-packages/tensorflow/python/ops/math_ops.py:3066: to_int32 (from tensorflow.python.ops.math_ops) is deprecated and will be removed in a future version.\n",
      "Instructions for updating:\n",
      "Use tf.cast instead.\n",
      "Epoch 1/30\n",
      "470/470 [==============================] - 0s 421us/step - loss: 0.1489 - acc: 0.8511\n",
      "Epoch 2/30\n",
      "470/470 [==============================] - 0s 55us/step - loss: 0.1491 - acc: 0.8511\n",
      "Epoch 3/30\n",
      "470/470 [==============================] - 0s 58us/step - loss: 0.1489 - acc: 0.8511\n",
      "Epoch 4/30\n",
      "470/470 [==============================] - 0s 61us/step - loss: 0.1482 - acc: 0.8511\n",
      "Epoch 5/30\n",
      "470/470 [==============================] - 0s 66us/step - loss: 0.1496 - acc: 0.8511\n",
      "Epoch 6/30\n",
      "470/470 [==============================] - 0s 62us/step - loss: 0.1489 - acc: 0.8511\n",
      "Epoch 7/30\n",
      "470/470 [==============================] - 0s 54us/step - loss: 0.1488 - acc: 0.8511\n",
      "Epoch 8/30\n",
      "470/470 [==============================] - 0s 55us/step - loss: 0.1489 - acc: 0.8489\n",
      "Epoch 9/30\n",
      "470/470 [==============================] - 0s 56us/step - loss: 0.1489 - acc: 0.8511\n",
      "Epoch 10/30\n",
      "470/470 [==============================] - 0s 56us/step - loss: 0.1489 - acc: 0.8511\n",
      "Epoch 11/30\n",
      "470/470 [==============================] - 0s 56us/step - loss: 0.1489 - acc: 0.8511\n",
      "Epoch 12/30\n",
      "470/470 [==============================] - 0s 54us/step - loss: 0.1489 - acc: 0.8511\n",
      "Epoch 13/30\n",
      "470/470 [==============================] - 0s 56us/step - loss: 0.1489 - acc: 0.8511\n",
      "Epoch 14/30\n",
      "470/470 [==============================] - 0s 57us/step - loss: 0.1488 - acc: 0.8511\n",
      "Epoch 15/30\n",
      "470/470 [==============================] - 0s 54us/step - loss: 0.1487 - acc: 0.8489\n",
      "Epoch 16/30\n",
      "470/470 [==============================] - 0s 59us/step - loss: 0.1481 - acc: 0.8489\n",
      "Epoch 17/30\n",
      "470/470 [==============================] - 0s 56us/step - loss: 0.1490 - acc: 0.8468\n",
      "Epoch 18/30\n",
      "470/470 [==============================] - 0s 55us/step - loss: 0.1481 - acc: 0.8511\n",
      "Epoch 19/30\n",
      "470/470 [==============================] - 0s 57us/step - loss: 0.1478 - acc: 0.8489\n",
      "Epoch 20/30\n",
      "470/470 [==============================] - 0s 54us/step - loss: 0.1478 - acc: 0.8489\n",
      "Epoch 21/30\n",
      "470/470 [==============================] - 0s 57us/step - loss: 0.1477 - acc: 0.8511\n",
      "Epoch 22/30\n",
      "470/470 [==============================] - 0s 56us/step - loss: 0.1470 - acc: 0.8511\n",
      "Epoch 23/30\n",
      "470/470 [==============================] - 0s 79us/step - loss: 0.1466 - acc: 0.8489\n",
      "Epoch 24/30\n",
      "470/470 [==============================] - 0s 82us/step - loss: 0.1485 - acc: 0.8489\n",
      "Epoch 25/30\n",
      "470/470 [==============================] - 0s 65us/step - loss: 0.1486 - acc: 0.8511\n",
      "Epoch 26/30\n",
      "470/470 [==============================] - 0s 68us/step - loss: 0.1474 - acc: 0.8511\n",
      "Epoch 27/30\n",
      "470/470 [==============================] - 0s 84us/step - loss: 0.1450 - acc: 0.8511\n",
      "Epoch 28/30\n",
      "470/470 [==============================] - 0s 93us/step - loss: 0.1469 - acc: 0.8489\n",
      "Epoch 29/30\n",
      "470/470 [==============================] - 0s 85us/step - loss: 0.1481 - acc: 0.8489\n",
      "Epoch 30/30\n",
      "470/470 [==============================] - 0s 67us/step - loss: 0.1443 - acc: 0.8532\n"
     ]
    },
    {
     "data": {
      "text/plain": [
       "<keras.callbacks.History at 0x7fbac8c94438>"
      ]
     },
     "execution_count": 12,
     "metadata": {},
     "output_type": "execute_result"
    }
   ],
   "source": [
    "model.compile(loss='mean_squared_error', optimizer='adam', metrics=['accuracy'])\n",
    "model.fit(X, y, epochs=30, batch_size=10)"
   ]
  },
  {
   "cell_type": "code",
   "execution_count": 13,
   "metadata": {},
   "outputs": [
    {
     "name": "stdout",
     "output_type": "stream",
     "text": [
      "470/470 [==============================] - 0s 58us/step\n",
      "\n",
      " Accuracy : 0.8574\n"
     ]
    }
   ],
   "source": [
    "print('\\n Accuracy : %.4f' % (model.evaluate(X,y)[1]))"
   ]
  },
  {
   "cell_type": "code",
   "execution_count": null,
   "metadata": {},
   "outputs": [],
   "source": []
  }
 ],
 "metadata": {
  "kernelspec": {
   "display_name": "Python 3",
   "language": "python",
   "name": "python3"
  },
  "language_info": {
   "codemirror_mode": {
    "name": "ipython",
    "version": 3
   },
   "file_extension": ".py",
   "mimetype": "text/x-python",
   "name": "python",
   "nbconvert_exporter": "python",
   "pygments_lexer": "ipython3",
   "version": "3.6.8"
  }
 },
 "nbformat": 4,
 "nbformat_minor": 2
}
