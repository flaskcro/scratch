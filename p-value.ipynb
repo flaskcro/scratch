{
 "cells": [
  {
   "cell_type": "code",
   "execution_count": 94,
   "metadata": {},
   "outputs": [],
   "source": [
    "# %load statistics.py\n",
    "def vector_add(v,w):\n",
    "    return [v_i + w_i for v_i, w_i in zip(v,w)]\n",
    "\n",
    "def vector_subtract(v,w):\n",
    "    return [v_i - w_i for v_i, w_i in zip(v,w)]\n",
    "\n",
    "def vector_sum(vectors):\n",
    "    return reduce(vector_add, vectors)\n",
    "\n",
    "def uniform_pdf(x):\n",
    "    return 1 if x >= 0 and x < 1 else 0\n",
    "\n",
    "def uniform_cdf(x):\n",
    "    if x < 0: return 0\n",
    "    elif x < 1 : return x\n",
    "    else: return 1\n",
    "\n",
    "def normal_pdf(x, mu=0, sigma=1):\n",
    "    sqrt_two_pi = math.sqrt(2 * math.pi)\n",
    "    return (1 / sqrt_two_pi * sigma) * ( math.exp( -(x-mu)**2/2*sigma**2 ) )\n",
    "\n",
    "def normal_cdf(x, mu=0, sigma=1):\n",
    "    return ( 1+ math.erf((x-mu) / math.sqrt(2) / sigma)) / 2\n",
    "\n",
    "def inverse_normal_cdf(p, mu=0, sigma=1, tolerance = 0.00001):\n",
    "    if mu != 0 or sigma != 1:\n",
    "        return mu + sigma * inverse_normal_cdf(p, tolerance = tolerance)\n",
    "    low_z, low_p = -10.0, 0\n",
    "    hi_z, hi_p = 10.0, 1\n",
    "    while hi_z - low_z > tolerance:\n",
    "        mid_z = (hi_z + low_z) / 2\n",
    "        mid_p = normal_cdf(mid_z)\n",
    "        if mid_p < p:\n",
    "            low_Z, low_p = mid_z, mid_p\n",
    "        elif mid_p > p:\n",
    "            hi_z, hi_p = mid_Z, mid_p\n",
    "        else:\n",
    "            break\n",
    "    return mid_z\n",
    "\n",
    "\n",
    "def bernoulli_trial(p):\n",
    "    return 1 if random.random() < p else 0\n",
    "\n",
    "def binomial(n, p):\n",
    "    return sum(bernoulli_trial(p) for _ in range(n))\n",
    "\n",
    "def normal_probablity_above(lo, mu=0, sigma=1):\n",
    "    return 1 - normal_cdf(lo, mu, sigma)\n",
    "\n",
    "def normal_probablity_below(x, mu=0, sigma=1):\n",
    "    return normal_cdf(x, mu=0, sigma=1)\n",
    "\n",
    "def normal_probablity_between(lo, hi, mu=0, sigma=1):\n",
    "    return normal_cdf(hi, mu, sigma) - normal_cdf(lo, mu, sigma)\n",
    "\n",
    "def normal_probablity_outside(lo, hi, mu=0, sigma=1):\n",
    "    return 1 - normal_probablity_between(lo, hi, mu, sigma)\n",
    "\n",
    "def normal_upper_bound(probablity, mu=0, sigma=1):\n",
    "    return inverse_normal_cdf(probablity, mu, sigma)\n",
    "\n",
    "def normal_lower_bound(probablity, mu=0, sigma=1):\n",
    "    return inverse_normal_cdf(1-probablity, mu, sigma)\n",
    "\n",
    "def normal_two_slided_bound(probablity, mu=0, sigma=1):\n",
    "    tail_probablity = ( 1- probablity) / 2\n",
    "    upper_bound = normal_lower_bound(tail_probablity, mu, sigma)\n",
    "    lower_bound = normal_upper_bound(tail_probablity, mu, sigma)\n",
    "    return lower_bound, upper_bound\n",
    "\n",
    "def two_sided_p_value(x, mu=0, sigma=1):\n",
    "    if x > mu:\n",
    "        return 2 * normal_probablity_above(x, mu, sigma)\n",
    "    else:\n",
    "        return 2 * normal_probablity_below(x, mu, sigma)\n",
    "\n",
    "## for AB Test\n",
    "def estimated_parameters(N, n):\n",
    "    p = n / N\n",
    "    sigma = math.sqrt(p * (1-p) / N) #N이 크기때문에 편의상 t분포가 아닌 정규분포를 이용\n",
    "    return p, sigma\n",
    "\n",
    "def ab_test_statistics(Na, na, Nb, nb): \n",
    "    #Na Number of A test users, na : Conversion counts of A test\n",
    "    pA, sigmaA = estimated_parameters(Na, na)\n",
    "    pB, sigmaB = estimated_parameters(Nb, nb)\n",
    "    return (pB - pA) / math.sqrt(sigmaA ** 2 + sigmaB ** 2)\n"
   ]
  },
  {
   "cell_type": "code",
   "execution_count": 35,
   "metadata": {},
   "outputs": [],
   "source": [
    "import math\n",
    "def normal_approximation_to_binomial(n,p):\n",
    "    mu = p *n\n",
    "    sigma = math.sqrt(p * (1-p) * n)\n",
    "    return mu, sigma"
   ]
  },
  {
   "cell_type": "code",
   "execution_count": 36,
   "metadata": {},
   "outputs": [],
   "source": [
    "normal_approximation_below = normal_cdf"
   ]
  },
  {
   "cell_type": "code",
   "execution_count": 37,
   "metadata": {},
   "outputs": [],
   "source": [
    "def normal_probablity_above(lo, mu=0, sigma=1):\n",
    "    return 1 - normal_cdf(lo, mu, sigma)"
   ]
  },
  {
   "cell_type": "code",
   "execution_count": 38,
   "metadata": {},
   "outputs": [],
   "source": [
    "def normal_probablity_between(lo, hi, mu=0, sigma=1):\n",
    "    return normal_cdf(hi, mu, sigma) - normal_cdf(lo, mu, sigma)"
   ]
  },
  {
   "cell_type": "code",
   "execution_count": 39,
   "metadata": {},
   "outputs": [],
   "source": [
    "def normal_probablity_outside(lo, hi, mu=0, sigma=1):\n",
    "    return 1 - normal_probablity_between(lo, hi, mu, sigma)"
   ]
  },
  {
   "cell_type": "code",
   "execution_count": 40,
   "metadata": {},
   "outputs": [],
   "source": [
    "def normal_upper_bound(probablity, mu=0, sigma=1):\n",
    "    return inverse_normal_cdf(probablity, mu, sigma)"
   ]
  },
  {
   "cell_type": "code",
   "execution_count": 41,
   "metadata": {},
   "outputs": [],
   "source": [
    "def normal_lower_bound(probablity, mu=0, sigma=1):\n",
    "    return inverse_normal_cdf(1-probablity, mu, sigma)"
   ]
  },
  {
   "cell_type": "code",
   "execution_count": 42,
   "metadata": {},
   "outputs": [],
   "source": [
    "def normal_two_slided_bound(probablity, mu=0, sigma=1):\n",
    "    tail_probablity = ( 1- probablity) / 2\n",
    "    upper_bound = normal_lower_bound(tail_probablity, mu, sigma)\n",
    "    lower_bound = normal_upper_bound(tail_probablity, mu, sigma)\n",
    "    return lower_bound, upper_bound"
   ]
  },
  {
   "cell_type": "code",
   "execution_count": 43,
   "metadata": {},
   "outputs": [],
   "source": [
    "mu_0, sigma_0 = normal_approximation_to_binomial(1000,0.5)"
   ]
  },
  {
   "cell_type": "code",
   "execution_count": 44,
   "metadata": {},
   "outputs": [
    {
     "data": {
      "text/plain": [
       "(469.01026640487555, 530.9897335951244)"
      ]
     },
     "execution_count": 44,
     "metadata": {},
     "output_type": "execute_result"
    }
   ],
   "source": [
    "normal_two_slided_bound(0.95,mu_0, sigma_0)"
   ]
  },
  {
   "cell_type": "code",
   "execution_count": 45,
   "metadata": {},
   "outputs": [],
   "source": [
    "lo, hi = normal_two_slided_bound(0.95, mu_0, sigma_0)"
   ]
  },
  {
   "cell_type": "code",
   "execution_count": 52,
   "metadata": {},
   "outputs": [
    {
     "name": "stdout",
     "output_type": "stream",
     "text": [
      "유의수준 (제1종 오류) :  469 ~ 531\n"
     ]
    }
   ],
   "source": [
    "print(\"유의수준 (제1종 오류) : \", round(lo), '~' , round(hi))"
   ]
  },
  {
   "cell_type": "code",
   "execution_count": 61,
   "metadata": {},
   "outputs": [],
   "source": [
    "mu_1, sigma_1 = normal_approximation_to_binomial(1000,0.55)"
   ]
  },
  {
   "cell_type": "code",
   "execution_count": 62,
   "metadata": {},
   "outputs": [],
   "source": [
    "type2_probablity = normal_probablity_between(lo, hi, mu_1, sigma_1)"
   ]
  },
  {
   "cell_type": "code",
   "execution_count": 63,
   "metadata": {},
   "outputs": [
    {
     "name": "stdout",
     "output_type": "stream",
     "text": [
      "power : 0.8865480012953671\n"
     ]
    }
   ],
   "source": [
    "power = 1 - type2_probablity\n",
    "print('power :', power)"
   ]
  },
  {
   "cell_type": "code",
   "execution_count": 69,
   "metadata": {},
   "outputs": [
    {
     "data": {
      "text/plain": [
       "0.06207721579598857"
      ]
     },
     "execution_count": 69,
     "metadata": {},
     "output_type": "execute_result"
    }
   ],
   "source": [
    "two_sided_p_value(529.5, mu_0, sigma_0)"
   ]
  },
  {
   "cell_type": "code",
   "execution_count": 73,
   "metadata": {},
   "outputs": [],
   "source": [
    "from random import random\n",
    "extreme_value_count = 0\n",
    "for _ in range(100000):\n",
    "    num_head = sum ( 1 if random() < 0.5 else 0\n",
    "                   for _ in range(1000))\n",
    "    if num_head >= 530 or num_head <= 470:\n",
    "        extreme_value_count += 1"
   ]
  },
  {
   "cell_type": "code",
   "execution_count": 74,
   "metadata": {},
   "outputs": [
    {
     "data": {
      "text/plain": [
       "0.06246"
      ]
     },
     "execution_count": 74,
     "metadata": {},
     "output_type": "execute_result"
    }
   ],
   "source": [
    "extreme_value_count / 100000"
   ]
  },
  {
   "cell_type": "code",
   "execution_count": 78,
   "metadata": {},
   "outputs": [
    {
     "data": {
      "text/plain": [
       "0.046345287837786575"
      ]
     },
     "execution_count": 78,
     "metadata": {},
     "output_type": "execute_result"
    }
   ],
   "source": [
    "two_sided_p_value(531.5, mu_0, sigma_0) ## 귀무가설 기각  p < 0.05"
   ]
  },
  {
   "cell_type": "code",
   "execution_count": 88,
   "metadata": {},
   "outputs": [
    {
     "name": "stdout",
     "output_type": "stream",
     "text": [
      "0.2\n",
      "0.18\n",
      "-1.1403464899034472\n"
     ]
    }
   ],
   "source": [
    "z = ab_test_statistics(1000,200,1000,180)\n",
    "print(z)"
   ]
  },
  {
   "cell_type": "code",
   "execution_count": 96,
   "metadata": {},
   "outputs": [
    {
     "data": {
      "text/plain": [
       "0.254141976542236"
      ]
     },
     "execution_count": 96,
     "metadata": {},
     "output_type": "execute_result"
    }
   ],
   "source": [
    "two_sided_p_value(z) # p > 0.05 귀무가설 채택"
   ]
  },
  {
   "cell_type": "code",
   "execution_count": 97,
   "metadata": {},
   "outputs": [
    {
     "name": "stdout",
     "output_type": "stream",
     "text": [
      "0.2\n",
      "0.15\n"
     ]
    },
    {
     "data": {
      "text/plain": [
       "0.003189699706216853"
      ]
     },
     "execution_count": 97,
     "metadata": {},
     "output_type": "execute_result"
    }
   ],
   "source": [
    "z = ab_test_statistics(1000,200,1000,150)\n",
    "two_sided_p_value(z)"
   ]
  },
  {
   "cell_type": "code",
   "execution_count": null,
   "metadata": {},
   "outputs": [],
   "source": []
  }
 ],
 "metadata": {
  "kernelspec": {
   "display_name": "Python 3",
   "language": "python",
   "name": "python3"
  },
  "language_info": {
   "codemirror_mode": {
    "name": "ipython",
    "version": 3
   },
   "file_extension": ".py",
   "mimetype": "text/x-python",
   "name": "python",
   "nbconvert_exporter": "python",
   "pygments_lexer": "ipython3",
   "version": "3.6.8"
  }
 },
 "nbformat": 4,
 "nbformat_minor": 2
}
